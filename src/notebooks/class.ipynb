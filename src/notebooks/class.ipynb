{
 "cells": [
  {
   "cell_type": "code",
   "execution_count": 2,
   "id": "a32597db",
   "metadata": {},
   "outputs": [],
   "source": [
    "class Bird:\n",
    "    pass # 当你什么也不想做的时候，可以使用pass"
   ]
  },
  {
   "cell_type": "code",
   "execution_count": 18,
   "id": "7be531e2",
   "metadata": {},
   "outputs": [],
   "source": [
    "dir(Bird)\n",
    "a = Bird()\n",
    "a.__init__()"
   ]
  },
  {
   "cell_type": "code",
   "execution_count": 7,
   "id": "510638ea",
   "metadata": {},
   "outputs": [
    {
     "data": {
      "text/plain": [
       "['__annotations__',\n",
       " '__call__',\n",
       " '__class__',\n",
       " '__closure__',\n",
       " '__code__',\n",
       " '__defaults__',\n",
       " '__delattr__',\n",
       " '__dict__',\n",
       " '__dir__',\n",
       " '__doc__',\n",
       " '__eq__',\n",
       " '__format__',\n",
       " '__ge__',\n",
       " '__get__',\n",
       " '__getattribute__',\n",
       " '__globals__',\n",
       " '__gt__',\n",
       " '__hash__',\n",
       " '__init__',\n",
       " '__init_subclass__',\n",
       " '__kwdefaults__',\n",
       " '__le__',\n",
       " '__lt__',\n",
       " '__module__',\n",
       " '__name__',\n",
       " '__ne__',\n",
       " '__new__',\n",
       " '__qualname__',\n",
       " '__reduce__',\n",
       " '__reduce_ex__',\n",
       " '__repr__',\n",
       " '__setattr__',\n",
       " '__sizeof__',\n",
       " '__str__',\n",
       " '__subclasshook__']"
      ]
     },
     "execution_count": 7,
     "metadata": {},
     "output_type": "execute_result"
    }
   ],
   "source": [
    "def f():\n",
    "    pass\n",
    "dir(f)"
   ]
  },
  {
   "cell_type": "code",
   "execution_count": 8,
   "id": "a6776493",
   "metadata": {},
   "outputs": [],
   "source": [
    "class Bird:\n",
    "    color = \"red\"\n",
    "    age = 1\n",
    "    childrens = []"
   ]
  },
  {
   "cell_type": "code",
   "execution_count": 9,
   "id": "c7f0d7e3",
   "metadata": {},
   "outputs": [
    {
     "data": {
      "text/plain": [
       "'red'"
      ]
     },
     "execution_count": 9,
     "metadata": {},
     "output_type": "execute_result"
    }
   ],
   "source": [
    "Bird.color"
   ]
  },
  {
   "cell_type": "code",
   "execution_count": 10,
   "id": "686b8c95",
   "metadata": {},
   "outputs": [
    {
     "data": {
      "text/plain": [
       "'red'"
      ]
     },
     "execution_count": 10,
     "metadata": {},
     "output_type": "execute_result"
    }
   ],
   "source": [
    "b = Bird()\n",
    "b.color"
   ]
  },
  {
   "cell_type": "code",
   "execution_count": 12,
   "id": "f3691c2a",
   "metadata": {},
   "outputs": [
    {
     "data": {
      "text/plain": [
       "'green'"
      ]
     },
     "execution_count": 12,
     "metadata": {},
     "output_type": "execute_result"
    }
   ],
   "source": [
    "Bird.color = \"green\"\n",
    "Bird.color"
   ]
  },
  {
   "cell_type": "code",
   "execution_count": 14,
   "id": "0f5e15b2",
   "metadata": {},
   "outputs": [
    {
     "data": {
      "text/plain": [
       "'green'"
      ]
     },
     "execution_count": 14,
     "metadata": {},
     "output_type": "execute_result"
    }
   ],
   "source": [
    "b = Bird()\n",
    "b.color = \"green\"\n",
    "b.color"
   ]
  },
  {
   "cell_type": "code",
   "execution_count": 16,
   "id": "d22f3f96",
   "metadata": {},
   "outputs": [
    {
     "name": "stdout",
     "output_type": "stream",
     "text": [
      "eat\n",
      "2\n"
     ]
    }
   ],
   "source": [
    "class Bird:\n",
    "    color = \"red\"\n",
    "    age = 1\n",
    "    childrens = []\n",
    "    def eat(self):\n",
    "        print(\"eat\")\n",
    "    def grow(self):\n",
    "        self.age += 1\n",
    "b = Bird()\n",
    "b.eat()\n",
    "b.grow()\n",
    "print(b.age)"
   ]
  },
  {
   "cell_type": "code",
   "execution_count": 19,
   "id": "2dc8f802",
   "metadata": {},
   "outputs": [
    {
     "name": "stdout",
     "output_type": "stream",
     "text": [
      "green\n",
      "red\n"
     ]
    }
   ],
   "source": [
    "class Bird:\n",
    "    color = \"red\"\n",
    "    age = 1\n",
    "    childrens = []\n",
    "    def __init__(self): \n",
    "        self.age = 0 # 进行一些初始化的操作\n",
    "        self.color = \"green\"\n",
    "    def eat(self): # self 可以类比于 c++ 中的this\n",
    "        print(\"eat\")\n",
    "    def grow(self):\n",
    "        self.age += 1 # 注意，在类方法中引用类成员必须用 self.\n",
    "        \n",
    "b = Bird()\n",
    "print(b.color)\n",
    "print(Bird.color)"
   ]
  },
  {
   "cell_type": "code",
   "execution_count": 22,
   "id": "db966c14",
   "metadata": {},
   "outputs": [
    {
     "name": "stdout",
     "output_type": "stream",
     "text": [
      "0\n"
     ]
    }
   ],
   "source": [
    "class Bird:\n",
    "    color = \"red\"\n",
    "    childrens = []\n",
    "    def __init__(self): \n",
    "        self.age = 0 # 进行一些初始化的操作\n",
    "        self.color = \"\"\n",
    "    def eat(self): # self 可以类比于 c++ 中的this\n",
    "        print(\"eat\")\n",
    "    def grow(self):\n",
    "        self.age += 1 # 注意，在类方法中引用类成员必须用 self.\n",
    "        \n",
    "b = Bird()\n",
    "print(b.age)"
   ]
  },
  {
   "cell_type": "code",
   "execution_count": 26,
   "id": "fe64dabf",
   "metadata": {},
   "outputs": [
    {
     "ename": "TypeError",
     "evalue": "__init__() missing 1 required positional argument: 'age'",
     "output_type": "error",
     "traceback": [
      "\u001b[1;31m---------------------------------------------------------------------------\u001b[0m",
      "\u001b[1;31mTypeError\u001b[0m                                 Traceback (most recent call last)",
      "\u001b[1;32m~\\AppData\\Local\\Temp/ipykernel_47416/476329091.py\u001b[0m in \u001b[0;36m<module>\u001b[1;34m\u001b[0m\n\u001b[0;32m     13\u001b[0m         \u001b[0mself\u001b[0m\u001b[1;33m.\u001b[0m\u001b[0mage\u001b[0m \u001b[1;33m+=\u001b[0m \u001b[1;36m1\u001b[0m \u001b[1;31m# 注意，在类方法中引用类成员必须用 self.\u001b[0m\u001b[1;33m\u001b[0m\u001b[1;33m\u001b[0m\u001b[0m\n\u001b[0;32m     14\u001b[0m \u001b[1;33m\u001b[0m\u001b[0m\n\u001b[1;32m---> 15\u001b[1;33m \u001b[0mb\u001b[0m \u001b[1;33m=\u001b[0m \u001b[0mBird\u001b[0m\u001b[1;33m(\u001b[0m\u001b[1;33m)\u001b[0m\u001b[1;33m\u001b[0m\u001b[1;33m\u001b[0m\u001b[0m\n\u001b[0m\u001b[0;32m     16\u001b[0m \u001b[0mprint\u001b[0m\u001b[1;33m(\u001b[0m\u001b[0mb\u001b[0m\u001b[1;33m.\u001b[0m\u001b[0mage\u001b[0m\u001b[1;33m)\u001b[0m\u001b[1;33m\u001b[0m\u001b[1;33m\u001b[0m\u001b[0m\n",
      "\u001b[1;31mTypeError\u001b[0m: __init__() missing 1 required positional argument: 'age'"
     ]
    }
   ],
   "source": [
    "\n",
    "class Bird:\n",
    "    color = \"red\"\n",
    "    childrens = []\n",
    "    def __init__(self): \n",
    "        self.age = 0 # 进行一些初始化的操作\n",
    "        self.color = \"\"\n",
    "    def __init__(self, age): \n",
    "        self.age = age # 进行一些初始化的操作\n",
    "        self.color = \"\"\n",
    "    def eat(self): # self 可以类比于 c++ 中的this\n",
    "        print(\"eat\")\n",
    "    def grow(self):\n",
    "        self.age += 1 # 注意，在类方法中引用类成员必须用 self.\n",
    "        \n",
    "b = Bird()\n",
    "print(b.age)"
   ]
  },
  {
   "cell_type": "code",
   "execution_count": 27,
   "id": "3032a52c",
   "metadata": {},
   "outputs": [
    {
     "name": "stdout",
     "output_type": "stream",
     "text": [
      "3\n"
     ]
    }
   ],
   "source": [
    "b = Bird(3)\n",
    "print(b.age)"
   ]
  },
  {
   "cell_type": "code",
   "execution_count": 30,
   "id": "e986f022",
   "metadata": {},
   "outputs": [
    {
     "name": "stdout",
     "output_type": "stream",
     "text": [
      "3\n"
     ]
    }
   ],
   "source": [
    "class Bird:\n",
    "    color = \"red\"\n",
    "    childrens = []\n",
    "    def __init__(self,  *args, **kwargs): \n",
    "        if \"age\" in kwargs:\n",
    "            self.age = kwargs[\"age\"] # 进行一些初始化的操作\n",
    "        else:\n",
    "            self.age = 0\n",
    "        self.color = \"\"\n",
    "    def eat(self): # self 可以类比于 c++ 中的this\n",
    "        print(\"eat\")\n",
    "    def grow(self):\n",
    "        self.age += 1 # 注意，在类方法中引用类成员必须用 self.\n",
    "b = Bird(age = 3)\n",
    "print(b.age)"
   ]
  },
  {
   "cell_type": "code",
   "execution_count": 34,
   "id": "bf30cbb6",
   "metadata": {},
   "outputs": [
    {
     "name": "stdout",
     "output_type": "stream",
     "text": [
      "1 2 3\n",
      "1 2 3\n",
      "1 2 3\n"
     ]
    }
   ],
   "source": [
    "def f(a,b,c):\n",
    "    print(a,b,c)\n",
    "    \n",
    "f(1,2,3)\n",
    "f(a = 1,c = 3, b=2)\n",
    "f(1,c = 3, b=2)"
   ]
  },
  {
   "cell_type": "code",
   "execution_count": 33,
   "id": "1fbeb080",
   "metadata": {},
   "outputs": [
    {
     "ename": "SyntaxError",
     "evalue": "positional argument follows keyword argument (Temp/ipykernel_47416/3420492099.py, line 1)",
     "output_type": "error",
     "traceback": [
      "\u001b[1;36m  File \u001b[1;32m\"C:\\Users\\haipw\\AppData\\Local\\Temp/ipykernel_47416/3420492099.py\"\u001b[1;36m, line \u001b[1;32m1\u001b[0m\n\u001b[1;33m    f(1,b = 2, 3)\u001b[0m\n\u001b[1;37m                ^\u001b[0m\n\u001b[1;31mSyntaxError\u001b[0m\u001b[1;31m:\u001b[0m positional argument follows keyword argument\n"
     ]
    }
   ],
   "source": [
    "f(1,b = 2, 3)"
   ]
  },
  {
   "cell_type": "code",
   "execution_count": 35,
   "id": "941499ab",
   "metadata": {},
   "outputs": [
    {
     "ename": "TypeError",
     "evalue": "f() takes 3 positional arguments but 4 were given",
     "output_type": "error",
     "traceback": [
      "\u001b[1;31m---------------------------------------------------------------------------\u001b[0m",
      "\u001b[1;31mTypeError\u001b[0m                                 Traceback (most recent call last)",
      "\u001b[1;32m~\\AppData\\Local\\Temp/ipykernel_47416/187368274.py\u001b[0m in \u001b[0;36m<module>\u001b[1;34m\u001b[0m\n\u001b[1;32m----> 1\u001b[1;33m \u001b[0mf\u001b[0m\u001b[1;33m(\u001b[0m\u001b[1;36m1\u001b[0m\u001b[1;33m,\u001b[0m \u001b[1;36m2\u001b[0m\u001b[1;33m,\u001b[0m \u001b[1;36m3\u001b[0m\u001b[1;33m,\u001b[0m \u001b[1;36m4\u001b[0m\u001b[1;33m)\u001b[0m\u001b[1;33m\u001b[0m\u001b[1;33m\u001b[0m\u001b[0m\n\u001b[0m",
      "\u001b[1;31mTypeError\u001b[0m: f() takes 3 positional arguments but 4 were given"
     ]
    }
   ],
   "source": [
    "f(1, 2, 3, 4)"
   ]
  },
  {
   "cell_type": "code",
   "execution_count": 41,
   "id": "8b6488d7",
   "metadata": {},
   "outputs": [
    {
     "name": "stdout",
     "output_type": "stream",
     "text": [
      "1 2 3\n",
      "args:\n",
      "4\n",
      "5\n",
      "6\n",
      "kwargs:\n",
      "x 1\n",
      "y 4\n"
     ]
    }
   ],
   "source": [
    "def f(a,b,c, *args, **kwargs):\n",
    "    print(a,b,c)\n",
    "    print(\"args:\")\n",
    "    for k in args:\n",
    "        print(k)\n",
    "    print(\"kwargs:\")\n",
    "    for k,v in kwargs.items():\n",
    "        print(k,v)\n",
    "        \n",
    "f(1,2,3,4,5,6,x=1,y=4)"
   ]
  },
  {
   "cell_type": "code",
   "execution_count": 43,
   "id": "911a3f09",
   "metadata": {},
   "outputs": [
    {
     "data": {
      "text/plain": [
       "'red'"
      ]
     },
     "execution_count": 43,
     "metadata": {},
     "output_type": "execute_result"
    }
   ],
   "source": [
    "class Bird:\n",
    "    color = \"red\"\n",
    "    age = 1\n",
    "    childrens = []\n",
    "Bird.color\n"
   ]
  },
  {
   "cell_type": "code",
   "execution_count": 45,
   "id": "44ac5c06",
   "metadata": {},
   "outputs": [
    {
     "name": "stdout",
     "output_type": "stream",
     "text": [
      "green\n",
      "red\n",
      "0\n"
     ]
    },
    {
     "ename": "AttributeError",
     "evalue": "type object 'Bird' has no attribute 'age'",
     "output_type": "error",
     "traceback": [
      "\u001b[1;31m---------------------------------------------------------------------------\u001b[0m",
      "\u001b[1;31mAttributeError\u001b[0m                            Traceback (most recent call last)",
      "\u001b[1;32m~\\AppData\\Local\\Temp/ipykernel_47416/519595942.py\u001b[0m in \u001b[0;36m<module>\u001b[1;34m\u001b[0m\n\u001b[0;32m     14\u001b[0m \u001b[0mprint\u001b[0m\u001b[1;33m(\u001b[0m\u001b[0mBird\u001b[0m\u001b[1;33m.\u001b[0m\u001b[0mcolor\u001b[0m\u001b[1;33m)\u001b[0m\u001b[1;33m\u001b[0m\u001b[1;33m\u001b[0m\u001b[0m\n\u001b[0;32m     15\u001b[0m \u001b[0mprint\u001b[0m\u001b[1;33m(\u001b[0m\u001b[0mb\u001b[0m\u001b[1;33m.\u001b[0m\u001b[0mage\u001b[0m\u001b[1;33m)\u001b[0m\u001b[1;33m\u001b[0m\u001b[1;33m\u001b[0m\u001b[0m\n\u001b[1;32m---> 16\u001b[1;33m \u001b[0mprint\u001b[0m\u001b[1;33m(\u001b[0m\u001b[0mBird\u001b[0m\u001b[1;33m.\u001b[0m\u001b[0mage\u001b[0m\u001b[1;33m)\u001b[0m\u001b[1;33m\u001b[0m\u001b[1;33m\u001b[0m\u001b[0m\n\u001b[0m",
      "\u001b[1;31mAttributeError\u001b[0m: type object 'Bird' has no attribute 'age'"
     ]
    }
   ],
   "source": [
    "class Bird:\n",
    "    color = \"red\"\n",
    "    childrens = []\n",
    "    def __init__(self): \n",
    "        self.age = 0 # 进行一些初始化的操作\n",
    "        self.color = \"green\"\n",
    "    def eat(self): # self 可以类比于 c++ 中的this\n",
    "        print(\"eat\")\n",
    "    def grow(self):\n",
    "        self.age += 1 # 注意，在类方法中引用类成员必须用 self.\n",
    "        \n",
    "b = Bird()\n",
    "print(b.color)\n",
    "print(Bird.color)\n",
    "print(b.age)\n",
    "print(Bird.age)"
   ]
  },
  {
   "cell_type": "code",
   "execution_count": 4,
   "id": "6d569252",
   "metadata": {},
   "outputs": [
    {
     "name": "stdout",
     "output_type": "stream",
     "text": [
      "<class 'type'>\n",
      "<class '__main__.Bird'>\n",
      "<class '__main__.Bird'>\n",
      "<__main__.Bird object at 0x000001DEAD20D6A0>\n"
     ]
    }
   ],
   "source": [
    "class Bird:\n",
    "    color = \"red\"\n",
    "    childrens = []\n",
    "    def __init__(self): \n",
    "        self.age = 0 # 进行一些初始化的操作\n",
    "        self.color = \"green\"\n",
    "    def eat(self): # self 可以类比于 c++ 中的this\n",
    "        print(\"eat\")\n",
    "    def grow(self):\n",
    "        self.age += 1 # 注意，在类方法中引用类成员必须用 self.\n",
    "b = Bird()\n",
    "# type\n",
    "print(type(Bird))\n",
    "print(type(b))\n",
    "\n",
    "# name\n",
    "print((Bird))\n",
    "print((b))\n",
    "\n",
    "# Bird is a class object, so its type is type.\n",
    "# However, b is an instance of Bird, so its type is Bird.\n",
    "\n"
   ]
  },
  {
   "cell_type": "code",
   "execution_count": 9,
   "id": "fc727f76",
   "metadata": {},
   "outputs": [
    {
     "data": {
      "text/plain": [
       "'<__main__.Bird object at 0x000001DEAD20D6A0>'"
      ]
     },
     "execution_count": 9,
     "metadata": {},
     "output_type": "execute_result"
    }
   ],
   "source": [
    "b.__str__()"
   ]
  },
  {
   "cell_type": "code",
   "execution_count": 13,
   "id": "7726d606",
   "metadata": {},
   "outputs": [
    {
     "name": "stdout",
     "output_type": "stream",
     "text": [
      "red\n",
      "[]\n",
      "eat\n"
     ]
    }
   ],
   "source": [
    "class Bird:\n",
    "    color = \"red\"\n",
    "    childrens = []\n",
    "    def __init__(self): \n",
    "        self.age = 0 # 进行一些初始化的操作\n",
    "        self.color = \"green\"\n",
    "    def eat(self): # self 可以类比于 c++ 中的this\n",
    "        print(\"eat\")\n",
    "    def grow(self):\n",
    "        self.age += 1 # 注意，在类方法中引用类成员必须用 self.\n",
    "\n",
    "print(Bird.color)\n",
    "print(Bird.childrens)\n",
    "Bird.eat(1)"
   ]
  },
  {
   "cell_type": "code",
   "execution_count": 14,
   "id": "ac595cee",
   "metadata": {},
   "outputs": [
    {
     "ename": "AttributeError",
     "evalue": "'int' object has no attribute 'age'",
     "output_type": "error",
     "traceback": [
      "\u001b[1;31m---------------------------------------------------------------------------\u001b[0m",
      "\u001b[1;31mAttributeError\u001b[0m                            Traceback (most recent call last)",
      "\u001b[1;32m<ipython-input-14-23675dbe8b30>\u001b[0m in \u001b[0;36m<module>\u001b[1;34m\u001b[0m\n\u001b[0;32m     10\u001b[0m         \u001b[0mself\u001b[0m\u001b[1;33m.\u001b[0m\u001b[0mage\u001b[0m \u001b[1;33m+=\u001b[0m \u001b[1;36m1\u001b[0m \u001b[1;31m# 注意，在类方法中引用类成员必须用 self.\u001b[0m\u001b[1;33m\u001b[0m\u001b[1;33m\u001b[0m\u001b[0m\n\u001b[0;32m     11\u001b[0m \u001b[1;33m\u001b[0m\u001b[0m\n\u001b[1;32m---> 12\u001b[1;33m \u001b[0mBird\u001b[0m\u001b[1;33m.\u001b[0m\u001b[0mgrow\u001b[0m\u001b[1;33m(\u001b[0m\u001b[1;36m1\u001b[0m\u001b[1;33m)\u001b[0m\u001b[1;33m\u001b[0m\u001b[1;33m\u001b[0m\u001b[0m\n\u001b[0m",
      "\u001b[1;32m<ipython-input-14-23675dbe8b30>\u001b[0m in \u001b[0;36mgrow\u001b[1;34m(self)\u001b[0m\n\u001b[0;32m      8\u001b[0m         \u001b[0mprint\u001b[0m\u001b[1;33m(\u001b[0m\u001b[1;34m\"eat\"\u001b[0m\u001b[1;33m)\u001b[0m\u001b[1;33m\u001b[0m\u001b[1;33m\u001b[0m\u001b[0m\n\u001b[0;32m      9\u001b[0m     \u001b[1;32mdef\u001b[0m \u001b[0mgrow\u001b[0m\u001b[1;33m(\u001b[0m\u001b[0mself\u001b[0m\u001b[1;33m)\u001b[0m\u001b[1;33m:\u001b[0m\u001b[1;33m\u001b[0m\u001b[1;33m\u001b[0m\u001b[0m\n\u001b[1;32m---> 10\u001b[1;33m         \u001b[0mself\u001b[0m\u001b[1;33m.\u001b[0m\u001b[0mage\u001b[0m \u001b[1;33m+=\u001b[0m \u001b[1;36m1\u001b[0m \u001b[1;31m# 注意，在类方法中引用类成员必须用 self.\u001b[0m\u001b[1;33m\u001b[0m\u001b[1;33m\u001b[0m\u001b[0m\n\u001b[0m\u001b[0;32m     11\u001b[0m \u001b[1;33m\u001b[0m\u001b[0m\n\u001b[0;32m     12\u001b[0m \u001b[0mBird\u001b[0m\u001b[1;33m.\u001b[0m\u001b[0mgrow\u001b[0m\u001b[1;33m(\u001b[0m\u001b[1;36m1\u001b[0m\u001b[1;33m)\u001b[0m\u001b[1;33m\u001b[0m\u001b[1;33m\u001b[0m\u001b[0m\n",
      "\u001b[1;31mAttributeError\u001b[0m: 'int' object has no attribute 'age'"
     ]
    }
   ],
   "source": [
    "class Bird:\n",
    "    color = \"red\"\n",
    "    childrens = []\n",
    "    def __init__(self): \n",
    "        self.age = 0 # 进行一些初始化的操作\n",
    "        self.color = \"green\"\n",
    "    def eat(self): # self 可以类比于 c++ 中的this\n",
    "        print(\"eat\")\n",
    "    def grow(self):\n",
    "        self.age += 1 # 注意，在类方法中引用类成员必须用 self.\n",
    "\n",
    "Bird.grow(1)"
   ]
  },
  {
   "cell_type": "code",
   "execution_count": 18,
   "id": "aa3f1bab",
   "metadata": {},
   "outputs": [
    {
     "name": "stdout",
     "output_type": "stream",
     "text": [
      "101\n"
     ]
    }
   ],
   "source": [
    "class VirtualBird:\n",
    "    age = 100\n",
    "\n",
    "class Bird:\n",
    "    color = \"red\"\n",
    "    childrens = []\n",
    "    def __init__(self): \n",
    "        self.age = 0 # 进行一些初始化的操作\n",
    "        self.color = \"green\"\n",
    "    def eat(self): # self 可以类比于 c++ 中的this\n",
    "        print(\"eat\")\n",
    "    def grow(you):\n",
    "        you.age += 1 # 注意，在类方法中引用类成员必须用 self.\n",
    "        print(you.age)\n",
    "\n",
    "Bird.grow(VirtualBird)"
   ]
  },
  {
   "cell_type": "code",
   "execution_count": 20,
   "id": "0d256d06",
   "metadata": {},
   "outputs": [
    {
     "name": "stdout",
     "output_type": "stream",
     "text": [
      "eat\n"
     ]
    }
   ],
   "source": [
    "class Bird:\n",
    "    def eat(self):\n",
    "        print(\"eat\")\n",
    "\n",
    "Bird.eat(1)\n"
   ]
  },
  {
   "cell_type": "code",
   "execution_count": 21,
   "id": "b9cc86e5",
   "metadata": {},
   "outputs": [
    {
     "name": "stdout",
     "output_type": "stream",
     "text": [
      "eat\n"
     ]
    }
   ],
   "source": [
    "class Bird:\n",
    "    def eat():\n",
    "        print(\"eat\")\n",
    "\n",
    "Bird.eat()"
   ]
  },
  {
   "cell_type": "code",
   "execution_count": 26,
   "id": "eabaaf8e",
   "metadata": {},
   "outputs": [
    {
     "name": "stdout",
     "output_type": "stream",
     "text": [
      "bird fly\n"
     ]
    },
    {
     "ename": "TypeError",
     "evalue": "eat() takes 0 positional arguments but 1 was given",
     "output_type": "error",
     "traceback": [
      "\u001b[1;31m---------------------------------------------------------------------------\u001b[0m",
      "\u001b[1;31mTypeError\u001b[0m                                 Traceback (most recent call last)",
      "\u001b[1;32m<ipython-input-26-c86d7d05c035>\u001b[0m in \u001b[0;36m<module>\u001b[1;34m\u001b[0m\n\u001b[0;32m      7\u001b[0m \u001b[0mb\u001b[0m\u001b[1;33m=\u001b[0m \u001b[0mBird\u001b[0m\u001b[1;33m(\u001b[0m\u001b[1;33m)\u001b[0m\u001b[1;33m\u001b[0m\u001b[1;33m\u001b[0m\u001b[0m\n\u001b[0;32m      8\u001b[0m \u001b[0mb\u001b[0m\u001b[1;33m.\u001b[0m\u001b[0mfly\u001b[0m\u001b[1;33m(\u001b[0m\u001b[1;33m)\u001b[0m\u001b[1;33m\u001b[0m\u001b[1;33m\u001b[0m\u001b[0m\n\u001b[1;32m----> 9\u001b[1;33m \u001b[0mb\u001b[0m\u001b[1;33m.\u001b[0m\u001b[0meat\u001b[0m\u001b[1;33m(\u001b[0m\u001b[1;33m)\u001b[0m\u001b[1;33m\u001b[0m\u001b[1;33m\u001b[0m\u001b[0m\n\u001b[0m",
      "\u001b[1;31mTypeError\u001b[0m: eat() takes 0 positional arguments but 1 was given"
     ]
    }
   ],
   "source": [
    "class Bird:\n",
    "    def fly(self):\n",
    "        print(\"bird fly\")\n",
    "    def eat():\n",
    "        print(\"eat\")\n",
    "\n",
    "b= Bird()\n",
    "b.fly()\n",
    "b.eat()"
   ]
  },
  {
   "cell_type": "code",
   "execution_count": 27,
   "id": "187a1c32",
   "metadata": {},
   "outputs": [
    {
     "name": "stdout",
     "output_type": "stream",
     "text": [
      "eat\n",
      "bird fly\n",
      "eat\n"
     ]
    }
   ],
   "source": [
    "class Bird:\n",
    "    def fly(self):\n",
    "        print(\"bird fly\")\n",
    "    @staticmethod\n",
    "    def eat():\n",
    "        print(\"eat\")\n",
    "\n",
    "Bird.eat()\n",
    "b= Bird()\n",
    "b.fly()\n",
    "b.eat()"
   ]
  }
 ],
 "metadata": {
  "kernelspec": {
   "display_name": "Python 3 (ipykernel)",
   "language": "python",
   "name": "python3"
  },
  "language_info": {
   "codemirror_mode": {
    "name": "ipython",
    "version": 3
   },
   "file_extension": ".py",
   "mimetype": "text/x-python",
   "name": "python",
   "nbconvert_exporter": "python",
   "pygments_lexer": "ipython3",
   "version": "3.7.3"
  }
 },
 "nbformat": 4,
 "nbformat_minor": 5
}
